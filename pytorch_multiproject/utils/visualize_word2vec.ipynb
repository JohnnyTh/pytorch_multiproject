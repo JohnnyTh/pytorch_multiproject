{
 "cells": [
  {
   "cell_type": "code",
   "execution_count": 0,
   "metadata": {
    "colab": {
     "base_uri": "https://localhost:8080/",
     "height": 35
    },
    "colab_type": "code",
    "id": "RcTb9ZiPWdSu",
    "outputId": "76186d5e-80c6-41e1-9b94-9e073eac5950"
   },
   "outputs": [
    {
     "name": "stdout",
     "output_type": "stream",
     "text": [
      "Used device name: Tesla P100-PCIE-16GB\n"
     ]
    }
   ],
   "source": [
    "import torch\n",
    "# Check if pytorch is using GPU:\n",
    "print('Used device name: {}'.format(torch.cuda.get_device_name(0)))"
   ]
  },
  {
   "cell_type": "markdown",
   "metadata": {
    "colab_type": "text",
    "id": "buko8UqDs5TQ"
   },
   "source": [
    "Import your google drive if necessary."
   ]
  },
  {
   "cell_type": "code",
   "execution_count": null,
   "metadata": {
    "colab": {
     "base_uri": "https://localhost:8080/",
     "height": 131
    },
    "colab_type": "code",
    "id": "8c6QrqKWWl2x",
    "outputId": "8caab587-080f-45ec-a37e-971f8e2cd593",
    "scrolled": true
   },
   "outputs": [],
   "source": [
    "from google.colab import drive\n",
    "drive.mount('/content/drive')"
   ]
  },
  {
   "cell_type": "code",
   "execution_count": 0,
   "metadata": {
    "colab": {},
    "colab_type": "code",
    "id": "aSMNhTFuHpAr"
   },
   "outputs": [],
   "source": [
    "import sys\n",
    "import os\n",
    "ROOT_DIR = 'your_dir'\n",
    "sys.path.insert(0, ROOT_DIR)\n",
    "import pickle\n",
    "import numpy as np\n",
    "import pandas as pd\n",
    "import torch\n",
    "import matplotlib.pyplot as plt\n",
    "import matplotlib.cm as cm\n",
    "from mpl_toolkits.mplot3d import Axes3D\n",
    "from sklearn.manifold import TSNE\n",
    "% matplotlib inline"
   ]
  },
  {
   "cell_type": "markdown",
   "metadata": {
    "colab_type": "text",
    "id": "_aX9KpPqtDCr"
   },
   "source": [
    "After trraining preprocessing the data and training the model, load all the needed files."
   ]
  },
  {
   "cell_type": "code",
   "execution_count": 0,
   "metadata": {
    "colab": {},
    "colab_type": "code",
    "id": "5kVEtnbRakrA"
   },
   "outputs": [],
   "source": [
    "resources_dir = os.path.join(ROOT_DIR, 'resources', '')\n",
    "device = torch.device(\"cuda:0\" if torch.cuda.is_available() else \"cpu\")\n",
    "\n",
    "vocabulary = pickle.load(open(os.path.join(os.path.join(resources_dir, 'vocabulary'), 'vocabulary.pickle'), 'rb'))\n",
    "word2vec_path = 'your_path/idx2vec.pickle'\n",
    "word2idx = pickle.load(open(os.path.join(os.path.join(resources_dir, 'word2idx'), 'word2idx.pickle'), 'rb'))\n",
    "idx2word = pickle.load(open(os.path.join(os.path.join(resources_dir, 'idx2word'), 'idx2word.pickle'), 'rb'))\n",
    "word_count = pickle.load(open(os.path.join(os.path.join(resources_dir, 'word_counts'), 'word_counts.pickle'), 'rb'))\n",
    "\n",
    "embeddings_weigths = pickle.load(open(word2vec_path, 'rb'))\n",
    "embeddings_weigths = torch.tensor(embeddings_weigths).to(device)"
   ]
  },
  {
   "cell_type": "code",
   "execution_count": 0,
   "metadata": {
    "colab": {
     "base_uri": "https://localhost:8080/",
     "height": 1000
    },
    "colab_type": "code",
    "id": "YbrYs36wafgs",
    "outputId": "317cd6e8-5fc5-4201-fdc5-ff3a67f7da34"
   },
   "outputs": [
    {
     "data": {
      "text/plain": [
       "tensor([ 8.9383e-04, -7.9303e-04,  1.6415e-03, -5.6756e-04,  3.9209e-04,\n",
       "         1.5539e-03, -1.3896e-03,  1.2225e-03,  1.0120e-03, -1.4705e-04,\n",
       "        -1.0854e-03, -4.0771e-05,  3.4775e-04,  1.6318e-03,  1.2514e-03,\n",
       "         1.2114e-03,  9.1972e-04, -8.1595e-04, -2.0925e-04,  1.5085e-03,\n",
       "        -5.2567e-04, -1.4169e-03,  1.5322e-03, -1.5125e-03, -1.1296e-03,\n",
       "         2.8627e-04,  8.5131e-04, -2.0004e-05,  6.6250e-04, -1.5177e-03,\n",
       "         2.1029e-04,  7.1049e-04, -8.7924e-05, -1.1748e-03, -6.2265e-05,\n",
       "         3.3644e-04, -2.2081e-04, -5.7105e-04, -1.5586e-03,  1.1065e-03,\n",
       "        -5.6389e-04, -1.0361e-03, -4.8426e-04, -1.2710e-03, -1.4100e-03,\n",
       "        -1.0480e-03, -8.1121e-04, -1.3160e-03,  5.2606e-04, -4.3782e-04,\n",
       "        -8.1941e-04, -9.1800e-04, -9.4242e-04,  7.7848e-04, -7.5610e-04,\n",
       "        -3.7023e-05,  3.2481e-04, -1.1929e-03, -2.8775e-04, -1.2705e-03,\n",
       "        -1.5896e-03, -3.2531e-05,  1.4354e-03,  2.5280e-04,  4.0717e-04,\n",
       "         1.0641e-03,  7.3059e-04,  1.4369e-03,  1.0447e-03, -1.2399e-03,\n",
       "        -1.4398e-03, -1.0577e-03,  1.2024e-03, -8.5398e-04,  3.5281e-04,\n",
       "        -9.2874e-04, -7.0309e-04,  1.6402e-03, -1.4369e-03, -1.3297e-03,\n",
       "         1.1537e-03,  1.3056e-03,  1.3990e-03,  8.7423e-04,  1.3990e-03,\n",
       "         1.5914e-03,  1.4077e-03, -1.2344e-03, -8.9137e-04,  6.9592e-04,\n",
       "        -8.2634e-04,  8.4757e-04,  6.4658e-04,  3.9455e-04,  2.6511e-04,\n",
       "         1.4868e-03,  8.1189e-04, -3.2338e-04,  8.4539e-04,  1.2618e-03,\n",
       "         1.0994e-03,  9.6555e-04, -1.0652e-03,  5.1504e-04,  6.2113e-04,\n",
       "        -8.3891e-04,  1.3524e-03,  4.7686e-04, -1.1343e-03, -1.0657e-03,\n",
       "        -3.5263e-05,  8.8688e-04, -1.4458e-03,  5.9485e-04,  8.9970e-04,\n",
       "         1.5109e-03,  6.6783e-04, -8.4107e-05, -1.0707e-03,  4.6999e-04,\n",
       "         1.6359e-03, -1.3892e-03,  3.2903e-04,  1.6029e-03,  1.6446e-03,\n",
       "         5.6215e-04, -1.6517e-03, -1.5215e-03, -1.4223e-03,  7.6985e-04,\n",
       "         1.2288e-03,  1.1681e-03, -7.5816e-04,  4.1608e-05, -1.0827e-04,\n",
       "        -1.2096e-03, -1.3695e-03,  1.2179e-03,  1.3300e-04, -9.1294e-04,\n",
       "        -8.3681e-04,  8.0042e-04, -7.7330e-05, -6.7264e-04, -2.0031e-04,\n",
       "        -1.2902e-03, -8.5956e-04,  5.4497e-04, -2.9472e-04,  1.5245e-03,\n",
       "        -1.2624e-03,  1.2167e-03,  4.8116e-04,  6.0105e-04, -4.6086e-04,\n",
       "        -9.9496e-04,  1.4290e-03,  7.7231e-04,  8.6009e-04,  1.4930e-03,\n",
       "        -1.0551e-03,  2.2467e-04, -9.3880e-04,  1.6246e-03, -1.5235e-03,\n",
       "         1.4256e-03, -1.4452e-04,  6.2145e-04,  4.2525e-04,  2.4114e-04,\n",
       "        -8.9147e-04,  1.0848e-03, -1.0662e-03,  2.0936e-04,  9.3829e-04,\n",
       "        -1.4452e-03,  5.5389e-04,  9.6206e-04,  9.1365e-04, -9.2257e-04,\n",
       "         2.4389e-04,  4.8592e-04,  1.4530e-03,  8.8210e-04, -1.0269e-03,\n",
       "         2.1510e-04, -8.0606e-04, -9.0969e-04, -1.4602e-03,  1.4613e-03,\n",
       "         6.7770e-04,  7.9707e-04, -4.1390e-04,  1.9941e-04, -1.5745e-03,\n",
       "        -1.0739e-04, -2.8776e-04, -1.5121e-03,  9.8864e-04, -1.4605e-03,\n",
       "        -1.1180e-03,  1.5929e-03,  7.1408e-04, -1.2622e-03,  1.0845e-03,\n",
       "        -1.0834e-03, -2.9401e-04, -1.4876e-03,  1.4017e-03,  1.5807e-03,\n",
       "        -7.8403e-04, -5.0822e-04, -5.9319e-04, -4.9043e-04, -1.1932e-03,\n",
       "        -1.2907e-04,  2.8938e-04, -1.1637e-03,  3.2049e-04, -1.3894e-03,\n",
       "        -1.2996e-03, -7.9730e-04, -1.6644e-03,  1.6439e-03, -1.5361e-03,\n",
       "        -1.2487e-03,  7.6692e-04,  1.3257e-03, -1.7387e-05, -4.2253e-04,\n",
       "         1.5264e-03,  7.0409e-04, -3.8699e-04, -3.8445e-04, -4.1599e-04,\n",
       "        -1.6167e-03, -7.2782e-04, -4.8640e-05,  1.0646e-03,  1.5909e-04,\n",
       "        -3.3827e-05, -1.2371e-03,  1.5036e-03, -1.0645e-03, -1.5297e-03,\n",
       "        -1.4341e-03,  8.4909e-04, -1.1489e-03,  6.2748e-04, -5.9389e-05,\n",
       "        -2.3990e-04,  1.5735e-03, -8.5318e-04, -1.4649e-05, -7.3720e-04,\n",
       "        -9.1744e-04, -1.9829e-05,  7.3994e-04, -1.3394e-04,  8.4566e-04,\n",
       "         1.2308e-03,  1.1128e-03,  7.9162e-04,  8.6837e-04, -9.1255e-04,\n",
       "         1.5136e-03,  7.9759e-04,  1.0011e-03, -2.1090e-04,  2.5130e-04,\n",
       "        -1.4339e-03, -7.9164e-04, -1.3389e-03,  8.6448e-04, -1.0853e-04,\n",
       "        -4.4258e-04, -4.3845e-04,  3.6633e-04,  1.3123e-03,  8.8524e-04,\n",
       "         4.6963e-04, -2.1424e-04,  1.1495e-03, -1.1742e-03,  1.3688e-03,\n",
       "         5.1646e-04,  5.4751e-04, -9.9280e-04, -1.9671e-04,  1.3955e-03,\n",
       "         1.5193e-03,  1.2527e-03, -4.6667e-04,  2.9448e-04,  1.1470e-03,\n",
       "        -7.5337e-04, -8.2530e-04, -1.3730e-03, -1.2325e-03, -7.0234e-04],\n",
       "       device='cuda:0')"
      ]
     },
     "execution_count": 14,
     "metadata": {
      "tags": []
     },
     "output_type": "execute_result"
    }
   ],
   "source": [
    "embeddings_weigths[1]"
   ]
  },
  {
   "cell_type": "markdown",
   "metadata": {
    "colab_type": "text",
    "id": "iT4oPJhqtZY2"
   },
   "source": [
    "Define the cosine similarity between two vectors.\n"
   ]
  },
  {
   "cell_type": "code",
   "execution_count": 0,
   "metadata": {
    "colab": {},
    "colab_type": "code",
    "id": "QDCNFTdxIJk5"
   },
   "outputs": [],
   "source": [
    "def cosine_sim(x_vector, y_vector):\n",
    "    dot_prod = torch.dot(x_vector.T, y_vector)\n",
    "    vector_norms = torch.sqrt(torch.sum(x_vector**2)) * torch.sqrt(torch.sum(y_vector**2))\n",
    "    similarity = dot_prod / vector_norms\n",
    "    return similarity"
   ]
  },
  {
   "cell_type": "markdown",
   "metadata": {
    "colab_type": "text",
    "id": "pEEtDcthtfCR"
   },
   "source": [
    "Plot results from t-SNE for a group of selected words."
   ]
  },
  {
   "cell_type": "code",
   "execution_count": 0,
   "metadata": {
    "colab": {
     "base_uri": "https://localhost:8080/",
     "height": 1000
    },
    "colab_type": "code",
    "id": "Ezz4qDT5VLqR",
    "outputId": "d81456a2-1771-4ac8-9377-8c6198f72e41"
   },
   "outputs": [
    {
     "name": "stdout",
     "output_type": "stream",
     "text": [
      "[t-SNE] Computing 16 nearest neighbors...\n",
      "[t-SNE] Indexed 20 samples in 0.001s...\n",
      "[t-SNE] Computed neighbors for 20 samples in 0.002s...\n",
      "[t-SNE] Computed conditional probabilities for sample 20 / 20\n",
      "[t-SNE] Mean sigma: 1.050818\n",
      "[t-SNE] KL divergence after 250 iterations with early exaggeration: 56.196255\n",
      "[t-SNE] KL divergence after 2950 iterations: 0.471334\n"
     ]
    },
    {
     "data": {
      "image/png": "[encoded data removed]",
      "text/plain": [
       "<Figure size 1080x1080 with 1 Axes>"
      ]
     },
     "metadata": {
      "tags": []
     },
     "output_type": "display_data"
    }
   ],
   "source": [
    "test_words = ['frodo', 'gandalf', 'gimli', 'saruman', 'sauron', 'aragorn', 'ring', 'bilbo', \n",
    "              'shire', 'gondor', 'sam', 'pippin', 'baggins', 'legolas',\n",
    "              'gollum', 'elrond', 'isengard', 'king', 'merry', 'elf']\n",
    "test_idx = [word2idx[word] for word in test_words]\n",
    "test_embds = embeddings_weigths[test_idx]\n",
    "\n",
    "tsne = TSNE(perplexity=5, n_components=2, init='pca', n_iter=10000, random_state=12, \n",
    "            verbose=1)\n",
    "test_embds_2d = tsne.fit_transform(test_embds.cpu().numpy())\n",
    "\n",
    "plt.figure(figsize = (9, 9), dpi=120)\n",
    "for idx, word in enumerate(test_words):\n",
    "\n",
    "    plt.scatter(test_embds_2d[idx][0], test_embds_2d[idx][1])\n",
    "    plt.annotate(word, xy = (test_embds_2d[idx][0], test_embds_2d[idx][1]), \\\n",
    "        ha='right',va='bottom')\n",
    "\n",
    "plt.show()"
   ]
  },
  {
   "cell_type": "markdown",
   "metadata": {
    "colab_type": "text",
    "id": "oDs2UaUftvul"
   },
   "source": [
    "Compute cosine similarities for a group of selected words."
   ]
  },
  {
   "cell_type": "code",
   "execution_count": 0,
   "metadata": {
    "colab": {},
    "colab_type": "code",
    "id": "RVpbdVeobC-A"
   },
   "outputs": [],
   "source": [
    "words = ['frodo', 'gandalf', 'gimli', 'saruman', 'sauron', 'aragorn', 'ring', 'bilbo', \n",
    "              'shire', 'gondor', 'sam', 'pippin', 'baggins', 'legolas',\n",
    "              'gollum', 'elrond', 'isengard', 'king', 'merry', 'elf']\n",
    "words_idx = [word2idx[word] for word in words]\n",
    "embeddings_words = [embeddings_weigths[idx] for idx in words_idx]\n",
    "\n",
    "top_num = 5\n",
    "\n",
    "t = tqdm(embeddings_words)\n",
    "t.set_description('Checking words for similarities')\n",
    "\n",
    "similarities = {}\n",
    "for idx_1, word_1 in enumerate(t):\n",
    "    key_word = words[idx_1]\n",
    "    similarities[key_word] = []\n",
    "    for idx_2, word_2 in enumerate(embeddings_weigths):\n",
    "        # the first two elements in vocab are padding word and unk word\n",
    "        if idx_2 > 1:\n",
    "            similarity = float(cosine_sim(word_1, word_2))\n",
    "            if word2idx[key_word] != idx_2:\n",
    "                similarities[key_word].append([idx2word[idx_2], similarity])\n",
    "    similarities[key_word].sort(key= lambda x: x[1])\n",
    "    similarities[key_word] = similarities[key_word][:-top_num-1:-1]\n",
    "\n",
    "for key in similarities:\n",
    "    for item in similarities[key]:\n",
    "        item[1] = round(item[1], 4)"
   ]
  },
  {
   "cell_type": "markdown",
   "metadata": {
    "colab_type": "text",
    "id": "AVxRtj9YtzL9"
   },
   "source": [
    "Format the results and convert them into a pandas dataframe.\n"
   ]
  },
  {
   "cell_type": "code",
   "execution_count": 0,
   "metadata": {
    "colab": {},
    "colab_type": "code",
    "id": "AgXBi64CWLQ9"
   },
   "outputs": [],
   "source": [
    "formated_sim = {}\n",
    "for key in similarities:\n",
    "    temp_list = []\n",
    "    for items in similarities[key]:\n",
    "        string = '\"{}\": {}'.format(items[0], items[1])\n",
    "        temp_list.append(string)\n",
    "    formated_sim[key] = temp_list\n",
    "\n",
    "df = pd.DataFrame(data=formated_sim)"
   ]
  },
  {
   "cell_type": "code",
   "execution_count": 0,
   "metadata": {
    "colab": {
     "base_uri": "https://localhost:8080/",
     "height": 325
    },
    "colab_type": "code",
    "id": "pUVSU-XgV_L9",
    "outputId": "540ebdda-e0cc-4b26-cd90-2c2ca04fa1dd"
   },
   "outputs": [
    {
     "data": {
      "text/html": [
       "<div>\n",
       "<style scoped>\n",
       "    .dataframe tbody tr th:only-of-type {\n",
       "        vertical-align: middle;\n",
       "    }\n",
       "\n",
       "    .dataframe tbody tr th {\n",
       "        vertical-align: top;\n",
       "    }\n",
       "\n",
       "    .dataframe thead th {\n",
       "        text-align: right;\n",
       "    }\n",
       "</style>\n",
       "<table border=\"1\" class=\"dataframe\">\n",
       "  <thead>\n",
       "    <tr style=\"text-align: right;\">\n",
       "      <th></th>\n",
       "      <th>frodo</th>\n",
       "      <th>gandalf</th>\n",
       "      <th>gimli</th>\n",
       "      <th>saruman</th>\n",
       "      <th>sauron</th>\n",
       "      <th>aragorn</th>\n",
       "      <th>ring</th>\n",
       "      <th>bilbo</th>\n",
       "      <th>shire</th>\n",
       "      <th>gondor</th>\n",
       "      <th>sam</th>\n",
       "      <th>pippin</th>\n",
       "      <th>baggins</th>\n",
       "      <th>legolas</th>\n",
       "      <th>gollum</th>\n",
       "      <th>elrond</th>\n",
       "      <th>isengard</th>\n",
       "      <th>king</th>\n",
       "      <th>merry</th>\n",
       "      <th>elf</th>\n",
       "    </tr>\n",
       "  </thead>\n",
       "  <tbody>\n",
       "    <tr>\n",
       "      <th>0</th>\n",
       "      <td>\"he\": 0.6002</td>\n",
       "      <td>\"he\": 0.4784</td>\n",
       "      <td>\"legolas\": 0.4909</td>\n",
       "      <td>\"radagast\": 0.4281</td>\n",
       "      <td>\"enemy\": 0.3498</td>\n",
       "      <td>\"omer\": 0.4439</td>\n",
       "      <td>\"ruling\": 0.4364</td>\n",
       "      <td>\"frodo\": 0.4945</td>\n",
       "      <td>\"sale\": 0.4068</td>\n",
       "      <td>\"ancient\": 0.3373</td>\n",
       "      <td>\"frodo\": 0.5621</td>\n",
       "      <td>\"frodo\": 0.4902</td>\n",
       "      <td>\"mr\": 0.4232</td>\n",
       "      <td>\"gimli\": 0.4909</td>\n",
       "      <td>\"yess\": 0.4457</td>\n",
       "      <td>\"gravely\": 0.3374</td>\n",
       "      <td>\"saruman\": 0.4059</td>\n",
       "      <td>\"lord\": 0.4245</td>\n",
       "      <td>\"pippin\": 0.4648</td>\n",
       "      <td>\"dwarf\": 0.3674</td>\n",
       "    </tr>\n",
       "    <tr>\n",
       "      <th>1</th>\n",
       "      <td>\"sam\": 0.5621</td>\n",
       "      <td>\"i\": 0.436</td>\n",
       "      <td>\"aragorn\": 0.4373</td>\n",
       "      <td>\"isengard\": 0.4059</td>\n",
       "      <td>\"ring\": 0.3239</td>\n",
       "      <td>\"gimli\": 0.4373</td>\n",
       "      <td>\"rings\": 0.3321</td>\n",
       "      <td>\"he\": 0.4088</td>\n",
       "      <td>\"r\": 0.3842</td>\n",
       "      <td>\"nmenor\": 0.3307</td>\n",
       "      <td>\"he\": 0.5288</td>\n",
       "      <td>\"he\": 0.4774</td>\n",
       "      <td>\"bilbo\": 0.3905</td>\n",
       "      <td>\"aragorn\": 0.4058</td>\n",
       "      <td>\"ach\": 0.4321</td>\n",
       "      <td>\"arwen\": 0.3219</td>\n",
       "      <td>\"war\": 0.3026</td>\n",
       "      <td>\"thoden\": 0.3964</td>\n",
       "      <td>\"sam\": 0.454</td>\n",
       "      <td>\"kingsfoil\": 0.3405</td>\n",
       "    </tr>\n",
       "    <tr>\n",
       "      <th>2</th>\n",
       "      <td>\"bilbo\": 0.4945</td>\n",
       "      <td>\"frodo\": 0.4327</td>\n",
       "      <td>\"gandalf\": 0.4219</td>\n",
       "      <td>\"gandalf\": 0.3833</td>\n",
       "      <td>\"bred\": 0.3197</td>\n",
       "      <td>\"boromir\": 0.4161</td>\n",
       "      <td>\"sauron\": 0.3239</td>\n",
       "      <td>\"baggins\": 0.3905</td>\n",
       "      <td>\"neighbourhood\": 0.3427</td>\n",
       "      <td>\"city\": 0.3303</td>\n",
       "      <td>\"pippin\": 0.4657</td>\n",
       "      <td>\"sam\": 0.4657</td>\n",
       "      <td>\"underhill\": 0.3824</td>\n",
       "      <td>\"gandalf\": 0.3884</td>\n",
       "      <td>\"he\": 0.4234</td>\n",
       "      <td>\"imladris\": 0.3123</td>\n",
       "      <td>\"rohan\": 0.2995</td>\n",
       "      <td>\"thengel\": 0.3872</td>\n",
       "      <td>\"frodo\": 0.4482</td>\n",
       "      <td>\"dunland\": 0.3071</td>\n",
       "    </tr>\n",
       "    <tr>\n",
       "      <th>3</th>\n",
       "      <td>\"pippin\": 0.4902</td>\n",
       "      <td>\"hoo\": 0.4231</td>\n",
       "      <td>\"glins\": 0.3845</td>\n",
       "      <td>\"traitor\": 0.3723</td>\n",
       "      <td>\"rings\": 0.319</td>\n",
       "      <td>\"legolas\": 0.4058</td>\n",
       "      <td>\"claim\": 0.3231</td>\n",
       "      <td>\"mr\": 0.3879</td>\n",
       "      <td>\"brandywine\": 0.3425</td>\n",
       "      <td>\"errandriders\": 0.3301</td>\n",
       "      <td>\"mr\": 0.4622</td>\n",
       "      <td>\"merry\": 0.4648</td>\n",
       "      <td>\"money\": 0.3631</td>\n",
       "      <td>\"bregalad\": 0.3538</td>\n",
       "      <td>\"precious\": 0.3913</td>\n",
       "      <td>\"elronds\": 0.3092</td>\n",
       "      <td>\"hosts\": 0.2995</td>\n",
       "      <td>\"omer\": 0.3836</td>\n",
       "      <td>\"gandalf\": 0.3994</td>\n",
       "      <td>\"glins\": 0.3049</td>\n",
       "    </tr>\n",
       "    <tr>\n",
       "      <th>4</th>\n",
       "      <td>\"mr\": 0.4562</td>\n",
       "      <td>\"gimli\": 0.4219</td>\n",
       "      <td>\"sam\": 0.372</td>\n",
       "      <td>\"treason\": 0.3674</td>\n",
       "      <td>\"destroyed\": 0.3164</td>\n",
       "      <td>\"gandalf\": 0.4017</td>\n",
       "      <td>\"destroy\": 0.3204</td>\n",
       "      <td>\"merry\": 0.3675</td>\n",
       "      <td>\"days\": 0.3404</td>\n",
       "      <td>\"men\": 0.326</td>\n",
       "      <td>\"merry\": 0.454</td>\n",
       "      <td>\"gandalf\": 0.3967</td>\n",
       "      <td>\"alarmed\": 0.3375</td>\n",
       "      <td>\"arod\": 0.3372</td>\n",
       "      <td>\"smagol\": 0.3812</td>\n",
       "      <td>\"dnedain\": 0.3038</td>\n",
       "      <td>\"thither\": 0.2966</td>\n",
       "      <td>\"kings\": 0.3829</td>\n",
       "      <td>\"bilbo\": 0.3675</td>\n",
       "      <td>\"eldest\": 0.304</td>\n",
       "    </tr>\n",
       "  </tbody>\n",
       "</table>\n",
       "</div>"
      ],
      "text/plain": [
       "              frodo          gandalf  ...              merry                  elf\n",
       "0      \"he\": 0.6002     \"he\": 0.4784  ...   \"pippin\": 0.4648      \"dwarf\": 0.3674\n",
       "1     \"sam\": 0.5621       \"i\": 0.436  ...       \"sam\": 0.454  \"kingsfoil\": 0.3405\n",
       "2   \"bilbo\": 0.4945  \"frodo\": 0.4327  ...    \"frodo\": 0.4482    \"dunland\": 0.3071\n",
       "3  \"pippin\": 0.4902    \"hoo\": 0.4231  ...  \"gandalf\": 0.3994      \"glins\": 0.3049\n",
       "4      \"mr\": 0.4562  \"gimli\": 0.4219  ...    \"bilbo\": 0.3675      \"eldest\": 0.304\n",
       "\n",
       "[5 rows x 20 columns]"
      ]
     },
     "execution_count": 57,
     "metadata": {
      "tags": []
     },
     "output_type": "execute_result"
    }
   ],
   "source": [
    "df"
   ]
  }
 ],
 "metadata": {
  "accelerator": "GPU",
  "colab": {
   "collapsed_sections": [
    "QWGRAdTPHslo"
   ],
   "name": "visualize_word2vec.ipynb",
   "provenance": []
  },
  "kernelspec": {
   "display_name": "Python 3",
   "language": "python",
   "name": "python3"
  },
  "language_info": {
   "codemirror_mode": {
    "name": "ipython",
    "version": 3
   },
   "file_extension": ".py",
   "mimetype": "text/x-python",
   "name": "python",
   "nbconvert_exporter": "python",
   "pygments_lexer": "ipython3",
   "version": "3.7.4"
  }
 },
 "nbformat": 4,
 "nbformat_minor": 1
}
